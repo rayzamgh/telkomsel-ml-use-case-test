{
  "cells": [
    {
      "cell_type": "markdown",
      "metadata": {
        "id": "vAwdOLvB3E-j"
      },
      "source": [
        "# Modelling for image classification\n",
        "\n",
        "1. Collect and prepare the data: Gather a large dataset of images that represent your target classes. Ensure that the images are cleanly labelled, and the dataset is balanced across classes. Then, preprocess the images by resizing them to a consistent size and normalizing their pixel values to a standard range. Data is already given in the problem-set URL\n",
        "\n",
        "2. Define the architecture: Select an appropriate architecture for your model, considering factors like complexity, accuracy, and compatibility with your dataset. The models that i test are:\n",
        "- Traditional CNN, (Baseline)\n",
        "- ResNet\n",
        "- MobileNet\n",
        "\n",
        "3. Train the model: Train the model on the dataset by feeding it input images and target labels. Specify the loss function, optimizer, and learning rate, and tune them to achieve optimal performance. Monitor the accuracy and loss during training using metrics like accuracy score and confusion matrix.\n",
        "\n",
        "4. Validate the model: After training, evaluate the model on a validation dataset to determine its accuracy and generalization capability. Tweak the model parameters to improve accuracy and decrease overfitting if the validation accuracy is low.\n",
        "\n",
        "5. Test the model: Once the model has been adequately validated, test it on a test dataset to gauge its performance on new, unseen data."
      ]
    },
    {
      "cell_type": "code",
      "execution_count": 1,
      "metadata": {
        "colab": {
          "base_uri": "https://localhost:8080/"
        },
        "id": "vQ0RiEvW3KQH",
        "outputId": "5ebad907-d582-41c7-d936-849752ec591e"
      },
      "outputs": [],
      "source": [
        "import os\n",
        "import numpy as np\n",
        "from tensorflow.keras.applications import MobileNetV3Small\n",
        "from tensorflow.keras.applications.resnet50 import ResNet50, preprocess_input as pi_resnet\n",
        "from tensorflow.keras.applications.mobilenet import preprocess_input as pi_mobilenet\n",
        "from tensorflow.keras.preprocessing.image import ImageDataGenerator\n",
        "from tensorflow.keras.layers import Conv2D, Dense, GlobalAveragePooling2D, Dropout, MaxPooling2D, Flatten\n",
        "from tensorflow.keras.models import Model, Sequential\n",
        "from tensorflow.keras.optimizers import Adam\n",
        "\n",
        "# # If ran from Google colab\n",
        "# from google.colab import drive\n",
        "# drive.mount('/content/drive')"
      ]
    },
    {
      "cell_type": "markdown",
      "metadata": {
        "id": "3cBCg8sueoMt"
      },
      "source": [
        "Declare Config and Constants"
      ]
    },
    {
      "cell_type": "code",
      "execution_count": 2,
      "metadata": {
        "id": "W7SkIk1Xetw2"
      },
      "outputs": [],
      "source": [
        "\n",
        "# Constants and Configs\n",
        "TRAIN_DATA_DIR = \"datasets/ps-1/train\"\n",
        "VALIDATION_DATA_DIR = \"datasets/ps-1/validation\"\n",
        "TEST_DATA_DIR = \"datasets/ps-1/test\"\n",
        "IMG_WIDTH, IMG_HEIGHT = 128, 128\n",
        "BATCH_SIZE = 32\n",
        "NUM_EPOCHS = 10\n",
        "NUM_CLASSES = 4\n",
        "MODEL = \"cnn\"\n"
      ]
    },
    {
      "cell_type": "markdown",
      "metadata": {
        "id": "cYPgXr2VfnMU"
      },
      "source": [
        "## Data Visualization"
      ]
    },
    {
      "cell_type": "code",
      "execution_count": 3,
      "metadata": {
        "colab": {
          "base_uri": "https://localhost:8080/",
          "height": 472
        },
        "id": "uO90WjQMfpE1",
        "outputId": "ed1fa696-9cd1-4441-de94-1f3c27bbfdff"
      },
      "outputs": [
        {
          "data": {
            "image/png": "[encoded data removed]",
            "text/plain": [
              "<Figure size 432x288 with 1 Axes>"
            ]
          },
          "metadata": {
            "needs_background": "light"
          },
          "output_type": "display_data"
        }
      ],
      "source": [
        "import os\n",
        "import matplotlib.pyplot as plt\n",
        "\n",
        "def count_images_in_folder(folder_path):\n",
        "    return sum([len(files) for _, _, files in os.walk(folder_path)])\n",
        "\n",
        "def visualize_data_distribution(train_data_dir, validation_data_dir, classes):\n",
        "    train_counts = [count_images_in_folder(os.path.join(train_data_dir, cls)) for cls in classes]\n",
        "    validation_counts = [count_images_in_folder(os.path.join(validation_data_dir, cls)) for cls in classes]\n",
        "    \n",
        "    fig, ax = plt.subplots()\n",
        "    x = np.arange(len(classes))\n",
        "    bar_width = 0.35\n",
        "\n",
        "    train_bars = ax.bar(x - bar_width/2, train_counts, bar_width, label='Train')\n",
        "    validation_bars = ax.bar(x + bar_width/2, validation_counts, bar_width, label='Validation')\n",
        "\n",
        "    ax.set_xlabel('Classes')\n",
        "    ax.set_ylabel('Image Count')\n",
        "    ax.set_title('Image Distribution by Class')\n",
        "    ax.set_xticks(x)\n",
        "    ax.set_xticklabels(classes)\n",
        "    ax.legend()\n",
        "\n",
        "    plt.show()\n",
        "\n",
        "classes = ['architecture', 'art_and_culture', 'food_and_drinks', 'travel_and_adventure']\n",
        "visualize_data_distribution(TRAIN_DATA_DIR, VALIDATION_DATA_DIR, classes)\n"
      ]
    },
    {
      "cell_type": "markdown",
      "metadata": {
        "id": "j2gyelVcgyOk"
      },
      "source": [
        "From the visualization above, we can tell that the dataset is very balanced already, with about 9000 image per classes in training dataset and about less than 100 in validation dataset. Because the dataset is already manually split by the author i will not perform any manual split and will perform the model evaluation and training with the data as is given. "
      ]
    },
    {
      "cell_type": "markdown",
      "metadata": {
        "id": "NIQh1dLvewOJ"
      },
      "source": [
        "## Data Cleansing and Augmentation\n"
      ]
    },
    {
      "cell_type": "code",
      "execution_count": 15,
      "metadata": {
        "id": "uS_UkLQWenuR"
      },
      "outputs": [],
      "source": [
        "def prepare_generator_dataset(preprocess_input):\n",
        "  # Prepare data generators for training and validation\n",
        "  train_datagen = ImageDataGenerator(\n",
        "      preprocessing_function=preprocess_input,\n",
        "      rotation_range=20,\n",
        "      width_shift_range=0.2,\n",
        "      height_shift_range=0.2,\n",
        "      shear_range=0.2,\n",
        "      zoom_range=0.2,\n",
        "      horizontal_flip=True,\n",
        "      fill_mode='nearest')\n",
        "\n",
        "  validation_datagen = ImageDataGenerator(preprocessing_function=preprocess_input)\n",
        "\n",
        "  train_generator = train_datagen.flow_from_directory(\n",
        "      TRAIN_DATA_DIR,\n",
        "      target_size=(IMG_WIDTH, IMG_HEIGHT),\n",
        "      batch_size=BATCH_SIZE,\n",
        "      class_mode='categorical')\n",
        "\n",
        "  validation_generator = validation_datagen.flow_from_directory(\n",
        "      VALIDATION_DATA_DIR,\n",
        "      target_size=(IMG_WIDTH, IMG_HEIGHT),\n",
        "      batch_size=BATCH_SIZE,\n",
        "      class_mode='categorical')\n",
        "  \n",
        "  return train_generator, validation_generator"
      ]
    },
    {
      "cell_type": "markdown",
      "metadata": {
        "id": "HxmBzIA5qxqg"
      },
      "source": [
        "## Model Training"
      ]
    },
    {
      "cell_type": "code",
      "execution_count": 5,
      "metadata": {
        "id": "VU8CroprsJ8-"
      },
      "outputs": [],
      "source": [
        "from sklearn.metrics import confusion_matrix\n",
        "import seaborn as sns\n",
        "import itertools\n",
        "import matplotlib.pyplot as plt\n",
        "from tensorflow.keras.models import load_model\n",
        "\n",
        "\n",
        "def plot_history(history):\n",
        "    acc = history.history['accuracy']\n",
        "    val_acc = history.history['val_accuracy']\n",
        "    loss = history.history['loss']\n",
        "    val_loss = history.history['val_loss']\n",
        "    epochs = range(1, len(acc) + 1)\n",
        "\n",
        "    plt.figure(figsize=(12, 6), facecolor='w')\n",
        "    plt.subplot(1, 2, 1)\n",
        "    plt.plot(epochs, acc, 'b', label='Training accuracy')\n",
        "    plt.plot(epochs, val_acc, 'r', label='Validation accuracy')\n",
        "    plt.title('Training and validation accuracy')\n",
        "    plt.legend()\n",
        "\n",
        "    plt.subplot(1, 2, 2)\n",
        "    plt.plot(epochs, loss, 'b', label='Training loss')\n",
        "    plt.plot(epochs, val_loss, 'r', label='Validation loss')\n",
        "    plt.title('Training and validation loss')\n",
        "    plt.legend()\n",
        "\n",
        "    plt.show()\n",
        "\n",
        "def get_cm(model, test_generator):\n",
        "    # Function to plot confusion matrix\n",
        "    def plot_confusion_matrix(conf_matrix, classes, normalize=False, cmap=plt.cm.Blues):\n",
        "        if normalize:\n",
        "            conf_matrix = conf_matrix.astype('float') / conf_matrix.sum(axis=1)[:, np.newaxis]\n",
        "\n",
        "        plt.figure(figsize=(8, 8), facecolor='w')\n",
        "        plt.imshow(conf_matrix, interpolation='nearest', cmap=cmap)\n",
        "        plt.title('Confusion Matrix')\n",
        "        plt.colorbar()\n",
        "\n",
        "        tick_marks = np.arange(len(classes))\n",
        "        plt.xticks(tick_marks, classes, rotation=45)\n",
        "        plt.yticks(tick_marks, classes)\n",
        "\n",
        "        fmt = '.2f' if normalize else 'd'\n",
        "        thresh = conf_matrix.max() / 2.\n",
        "        for i, j in itertools.product(range(conf_matrix.shape[0]), range(conf_matrix.shape[1])):\n",
        "            plt.text(j, i, format(conf_matrix[i, j], fmt),\n",
        "                    horizontalalignment=\"center\",\n",
        "                    color=\"white\" if conf_matrix[i, j] > thresh else \"black\")\n",
        "\n",
        "        plt.tight_layout()\n",
        "        plt.ylabel('True label')\n",
        "        plt.xlabel('Predicted label')\n",
        "        plt.show()\n",
        "\n",
        "    # Get predictions on the test set\n",
        "    y_pred = model.predict(test_generator, steps=np.ceil(test_generator.samples / BATCH_SIZE))\n",
        "    y_pred_classes = np.argmax(y_pred, axis=1)\n",
        "\n",
        "    # Get true labels from the test generator\n",
        "    y_true = test_generator.classes\n",
        "    class_names = list(test_generator.class_indices.keys()) \n",
        "\n",
        "    # Calculate confusion matrix\n",
        "    conf_matrix = confusion_matrix(y_true, y_pred_classes)\n",
        "\n",
        "    # Plot confusion matrix\n",
        "    plot_confusion_matrix(conf_matrix, classes=class_names, normalize=True)\n",
        "\n",
        "def load_saved_model(model_path):\n",
        "    model = load_model(model_path)\n",
        "    return model\n"
      ]
    },
    {
      "cell_type": "markdown",
      "metadata": {
        "id": "-0ANjAjW5REi"
      },
      "source": [
        "### MobileNet"
      ]
    },
    {
      "cell_type": "code",
      "execution_count": 6,
      "metadata": {
        "id": "jFmupgrd5S1F"
      },
      "outputs": [],
      "source": [
        "def create_and_fit_model_mobilenet(train_generator, validation_generator):\n",
        "\n",
        "  # Load pre-trained MobileNet model without the top layers\n",
        "  base_model = MobileNetV3Small(weights='imagenet', include_top=False, input_shape=(IMG_WIDTH, IMG_HEIGHT, 3))\n",
        "\n",
        "\n",
        "  # Add custom layers\n",
        "  x = base_model.output\n",
        "  x = GlobalAveragePooling2D()(x)\n",
        "  x = Dense(64, activation='relu')(x)\n",
        "  x = Dropout(0.5)(x)\n",
        "  predictions = Dense(NUM_CLASSES, activation='softmax')(x)\n",
        "\n",
        "  # Create the final model\n",
        "  model = Model(inputs=base_model.input, outputs=predictions)\n",
        "\n",
        "  # Freeze the layers of the base model (MobileNet-50) during training\n",
        "  for layer in base_model.layers:\n",
        "      layer.trainable = False\n",
        "\n",
        "  # Compile the model\n",
        "  model.compile(optimizer=Adam(learning_rate=0.0001), loss='categorical_crossentropy', metrics=['accuracy'])\n",
        "  import matplotlib.pyplot as plt\n",
        "\n",
        "  # Train the model\n",
        "  history = model.fit(\n",
        "      train_generator,\n",
        "      steps_per_epoch=np.ceil(train_generator.samples / BATCH_SIZE),\n",
        "      epochs=NUM_EPOCHS,\n",
        "      validation_data=validation_generator,\n",
        "      validation_steps=np.ceil(validation_generator.samples / BATCH_SIZE))\n",
        "\n",
        "  return model, history\n"
      ]
    },
    {
      "cell_type": "markdown",
      "metadata": {
        "id": "yjNjmG3pq16i"
      },
      "source": [
        "### ResNet"
      ]
    },
    {
      "cell_type": "code",
      "execution_count": 7,
      "metadata": {
        "id": "D20QpjAdefsu"
      },
      "outputs": [],
      "source": [
        "def create_and_fit_model_resnet(train_generator, validation_generator):\n",
        "\n",
        "  # Load pre-trained ResNet-50 model without the top layers\n",
        "  base_model = ResNet50(weights='imagenet', include_top=False, input_shape=(IMG_WIDTH, IMG_HEIGHT, 3))\n",
        "\n",
        "  # Add custom layers\n",
        "  x = base_model.output\n",
        "  x = GlobalAveragePooling2D()(x)\n",
        "  x = Dense(64, activation='relu')(x)\n",
        "  x = Dropout(0.5)(x)\n",
        "  predictions = Dense(NUM_CLASSES, activation='softmax')(x)\n",
        "\n",
        "  # Create the final model\n",
        "  model = Model(inputs=base_model.input, outputs=predictions)\n",
        "\n",
        "  # Freeze the layers of the base model (ResNet-50) during training\n",
        "  for layer in base_model.layers:\n",
        "      layer.trainable = False\n",
        "\n",
        "  # Compile the model\n",
        "  model.compile(optimizer=Adam(learning_rate=0.0001), loss='categorical_crossentropy', metrics=['accuracy'])\n",
        "  import matplotlib.pyplot as plt\n",
        "\n",
        "  # Train the model\n",
        "  history = model.fit(\n",
        "      train_generator,\n",
        "      steps_per_epoch=np.ceil(train_generator.samples / BATCH_SIZE),\n",
        "      epochs=NUM_EPOCHS,\n",
        "      validation_data=validation_generator,\n",
        "      validation_steps=np.ceil(validation_generator.samples / BATCH_SIZE))\n",
        "\n",
        "  return model, history\n"
      ]
    },
    {
      "cell_type": "markdown",
      "metadata": {
        "id": "QmTxeZ9XztDD"
      },
      "source": [
        "### Traditional CNN\n"
      ]
    },
    {
      "cell_type": "code",
      "execution_count": 8,
      "metadata": {
        "id": "xD8sLDMYzux3"
      },
      "outputs": [],
      "source": [
        "\n",
        "def create_and_fit_model_cnn(train_generator, validation_generator):\n",
        "  # Create the CNN model\n",
        "  model = Sequential()\n",
        "  model.add(Conv2D(32, (3, 3), activation='relu', input_shape=(IMG_WIDTH, IMG_HEIGHT, 3)))\n",
        "  model.add(MaxPooling2D(pool_size=(2, 2)))\n",
        "\n",
        "  model.add(Conv2D(64, (3, 3), activation='relu'))\n",
        "  model.add(MaxPooling2D(pool_size=(2, 2)))\n",
        "\n",
        "  model.add(Conv2D(128, (3, 3), activation='relu'))\n",
        "  model.add(MaxPooling2D(pool_size=(2, 2)))\n",
        "\n",
        "  model.add(Flatten())\n",
        "  model.add(Dense(512, activation='relu'))\n",
        "  model.add(Dropout(0.5))\n",
        "  model.add(Dense(NUM_CLASSES, activation='softmax'))\n",
        "\n",
        "  # Compile the model\n",
        "  model.compile(optimizer=Adam(learning_rate=0.0001), loss='categorical_crossentropy', metrics=['accuracy'])\n",
        "\n",
        "  # Train the model\n",
        "  history = model.fit(\n",
        "      train_generator,\n",
        "      steps_per_epoch=np.ceil(train_generator.samples / BATCH_SIZE),\n",
        "      epochs=NUM_EPOCHS,\n",
        "      validation_data=validation_generator,\n",
        "      validation_steps=np.ceil(validation_generator.samples / BATCH_SIZE))\n",
        "\n",
        "  return model, history"
      ]
    },
    {
      "cell_type": "markdown",
      "metadata": {
        "id": "QYwzn_fZq3eI"
      },
      "source": [
        "## Final Output"
      ]
    },
    {
      "cell_type": "code",
      "execution_count": 18,
      "metadata": {
        "id": "DuaC0zIpsZYf"
      },
      "outputs": [],
      "source": [
        "import os\n",
        "import numpy as np\n",
        "from tensorflow.keras.preprocessing.image import load_img, img_to_array\n",
        "from tensorflow.keras.models import load_model\n",
        "\n",
        "def predict_images(train_generator, model, test_dir, img_width=224, img_height=224, preprocess_input=None):\n",
        "    class_labels = {v: k for k, v in train_generator.class_indices.items()}\n",
        "    test_images = os.listdir(test_dir)\n",
        "    \n",
        "    for img_name in test_images:\n",
        "        img_path = os.path.join(test_dir, img_name)\n",
        "        img = load_img(img_path, target_size=(img_width, img_height))\n",
        "        img_array = img_to_array(img)\n",
        "        img_array = np.expand_dims(img_array, axis=0)\n",
        "        if preprocess_input:\n",
        "            img_array = preprocess_input(img_array)\n",
        "        \n",
        "        prediction = model.predict(img_array)\n",
        "        predicted_class = class_labels[np.argmax(prediction)]\n",
        "\n",
        "        print(f\"{img_name}: {predicted_class}\")\n",
        "\n"
      ]
    },
    {
      "cell_type": "code",
      "execution_count": 10,
      "metadata": {
        "colab": {
          "base_uri": "https://localhost:8080/"
        },
        "id": "vFYEbhz4q5bT",
        "outputId": "83a69587-7a31-4c74-e93c-3a49d70bf6d1"
      },
      "outputs": [
        {
          "name": "stdout",
          "output_type": "stream",
          "text": [
            "Found 34991 images belonging to 4 classes.\n",
            "Found 115 images belonging to 4 classes.\n",
            "Epoch 1/10\n",
            "  42/1094 [>.............................] - ETA: 3:54 - loss: 22.9740 - accuracy: 0.3065"
          ]
        },
        {
          "name": "stderr",
          "output_type": "stream",
          "text": [
            "C:\\Users\\mahen\\AppData\\Roaming\\Python\\Python39\\site-packages\\PIL\\Image.py:959: UserWarning: Palette images with Transparency expressed in bytes should be converted to RGBA images\n",
            "  warnings.warn(\n"
          ]
        },
        {
          "name": "stdout",
          "output_type": "stream",
          "text": [
            " 703/1094 [==================>...........] - ETA: 1:32 - loss: 2.5229 - accuracy: 0.4521"
          ]
        },
        {
          "name": "stderr",
          "output_type": "stream",
          "text": [
            "C:\\Users\\mahen\\AppData\\Roaming\\Python\\Python39\\site-packages\\PIL\\TiffImagePlugin.py:845: UserWarning: Corrupt EXIF data.  Expecting to read 4 bytes but only got 0. \n",
            "  warnings.warn(str(msg))\n"
          ]
        },
        {
          "name": "stdout",
          "output_type": "stream",
          "text": [
            "1094/1094 [==============================] - 266s 234ms/step - loss: 2.0153 - accuracy: 0.4808 - val_loss: 1.1384 - val_accuracy: 0.5739\n",
            "Epoch 2/10\n",
            "1094/1094 [==============================] - 207s 189ms/step - loss: 0.9877 - accuracy: 0.6008 - val_loss: 1.3846 - val_accuracy: 0.5478\n",
            "Epoch 3/10\n",
            "1094/1094 [==============================] - 203s 186ms/step - loss: 0.8553 - accuracy: 0.6680 - val_loss: 1.8465 - val_accuracy: 0.6087\n",
            "Epoch 4/10\n",
            "1094/1094 [==============================] - 203s 186ms/step - loss: 0.7790 - accuracy: 0.7007 - val_loss: 1.5660 - val_accuracy: 0.6261\n",
            "Epoch 5/10\n",
            "1094/1094 [==============================] - 159s 146ms/step - loss: 0.7087 - accuracy: 0.7333 - val_loss: 1.1300 - val_accuracy: 0.6609\n",
            "Epoch 6/10\n",
            "1094/1094 [==============================] - 170s 155ms/step - loss: 0.6672 - accuracy: 0.7485 - val_loss: 1.9387 - val_accuracy: 0.6348\n",
            "Epoch 7/10\n",
            "1094/1094 [==============================] - 176s 161ms/step - loss: 0.6203 - accuracy: 0.7682 - val_loss: 1.2209 - val_accuracy: 0.6870\n",
            "Epoch 8/10\n",
            "1094/1094 [==============================] - 165s 151ms/step - loss: 0.5815 - accuracy: 0.7825 - val_loss: 1.2206 - val_accuracy: 0.6870\n",
            "Epoch 9/10\n",
            "1094/1094 [==============================] - 154s 141ms/step - loss: 0.5499 - accuracy: 0.7966 - val_loss: 1.3003 - val_accuracy: 0.6696\n",
            "Epoch 10/10\n",
            "1094/1094 [==============================] - 156s 142ms/step - loss: 0.5345 - accuracy: 0.8009 - val_loss: 1.7950 - val_accuracy: 0.6522\n"
          ]
        }
      ],
      "source": [
        "preprocess_input = None\n",
        "\n",
        "if MODEL == \"resnet50\":\n",
        "  \n",
        "  model_path = 'resnet_image_classification.h5'\n",
        "  \n",
        "  if os.path.exists(model_path):\n",
        "      print(\"Loading saved model...\")\n",
        "      model = load_saved_model(model_path)\n",
        "  else:\n",
        "    preprocess_input = pi_resnet\n",
        "    train_generator, validation_generator = prepare_generator_dataset(preprocess_input)\n",
        "    model, history = create_and_fit_model_resnet(train_generator, validation_generator)\n",
        "    model.save(model_path)\n",
        "\n",
        "if MODEL == \"mobilenet\":\n",
        "  \n",
        "  model_path = 'mobilenet_image_classification.h5'\n",
        "  \n",
        "  if os.path.exists(model_path):\n",
        "      print(\"Loading saved model...\")\n",
        "      model = load_saved_model(model_path)\n",
        "  else:\n",
        "    preprocess_input = pi_mobilenet\n",
        "    train_generator, validation_generator = prepare_generator_dataset(preprocess_input)\n",
        "    model, history = create_and_fit_model_mobilenet(train_generator, validation_generator)\n",
        "    model.save('mobilenet_image_classification.h5')\n",
        "\n",
        "if MODEL == \"cnn\":\n",
        "  \n",
        "  model_path = 'cnn_image_classification.h5'\n",
        "  \n",
        "  if os.path.exists(model_path):\n",
        "      print(\"Loading saved model...\")\n",
        "      model = load_saved_model(model_path)\n",
        "  else:\n",
        "    train_generator, validation_generator = prepare_generator_dataset(preprocess_input=None)\n",
        "    model, history = create_and_fit_model_cnn(train_generator, validation_generator)\n",
        "    model.save('cnn_image_classification.h5')\n"
      ]
    },
    {
      "cell_type": "code",
      "execution_count": 20,
      "metadata": {},
      "outputs": [
        {
          "data": {
            "image/png": "[encoded data removed]",
            "text/plain": [
              "<Figure size 864x432 with 2 Axes>"
            ]
          },
          "metadata": {},
          "output_type": "display_data"
        },
        {
          "name": "stdout",
          "output_type": "stream",
          "text": [
            "1.JPG: art_and_culture\n",
            "10.JPG: art_and_culture\n",
            "2.JPG: art_and_culture\n",
            "3.JPG: art_and_culture\n",
            "4.JPG: art_and_culture\n",
            "5.JPG: travel_and_adventure\n",
            "6.JPG: travel_and_adventure\n",
            "7.JPG: travel_and_adventure\n",
            "8.JPG: art_and_culture\n",
            "9.JPG: art_and_culture\n"
          ]
        },
        {
          "data": {
            "image/png": "[encoded data removed]",
            "text/plain": [
              "<Figure size 576x576 with 2 Axes>"
            ]
          },
          "metadata": {},
          "output_type": "display_data"
        }
      ],
      "source": [
        "\n",
        "# Plot loss hsitory\n",
        "plot_history(history)\n",
        "\n",
        "# Predict the test dataset\n",
        "predict_images(train_generator, model, TEST_DATA_DIR, img_width=IMG_WIDTH, img_height=IMG_HEIGHT, preprocess_input=None)\n",
        "\n",
        "# Get confusion matrix\n",
        "get_cm(model, validation_generator)\n"
      ]
    },
    {
      "cell_type": "code",
      "execution_count": null,
      "metadata": {},
      "outputs": [
        {
          "name": "stderr",
          "output_type": "stream",
          "text": [
            "C:\\Users\\mahen\\AppData\\Roaming\\Python\\Python39\\site-packages\\tensorflow\\python\\keras\\utils\\generic_utils.py:494: CustomMaskWarning: Custom mask layers require a config and must override get_config. When loading, the custom mask layer must be passed to the custom_objects argument.\n",
            "  warnings.warn('Custom mask layers require a config and must override '\n"
          ]
        }
      ],
      "source": [
        "model.save('mobilenet_image_classification.h5')"
      ]
    },
    {
      "attachments": {},
      "cell_type": "markdown",
      "metadata": {},
      "source": [
        "## GridSearch for hyperparameter tuning (optional)"
      ]
    },
    {
      "cell_type": "code",
      "execution_count": null,
      "metadata": {},
      "outputs": [],
      "source": [
        "from sklearn.model_selection import GridSearchCV\n",
        "\n",
        "param_grid = {\n",
        "    'optimizer': ['adam', 'rmsprop'],\n",
        "    'learning_rate': [0.001, 0.0001],\n",
        "    'batch_size': [32, 64],\n",
        "    'epochs': [10, 20],\n",
        "    'rotation_range': [20, 30],\n",
        "    'width_shift_range': [0.2, 0.3],\n",
        "    'height_shift_range': [0.2, 0.3],\n",
        "    'shear_range': [0.2, 0.3],\n",
        "    'zoom_range': [0.2, 0.3],\n",
        "    'horizontal_flip': [True, False]\n",
        "}\n",
        "\n",
        "# Create the GridSearchCV object\n",
        "grid = GridSearchCV(estimator=model, param_grid=param_grid, n_jobs=-1, cv=3)\n",
        "\n",
        "# Train the model using GridSearchCV\n",
        "grid.fit(train_generator, validation_data=validation_generator)\n",
        "\n",
        "# Print the best parameters and the corresponding mean cross-validated score\n",
        "print(\"Best parameters: \", grid.best_params_)\n",
        "print(\"Best score: \", grid.best_score_)"
      ]
    }
  ],
  "metadata": {
    "accelerator": "GPU",
    "colab": {
      "machine_shape": "hm",
      "provenance": []
    },
    "gpuClass": "standard",
    "kernelspec": {
      "display_name": "Python 3",
      "name": "python3"
    },
    "language_info": {
      "codemirror_mode": {
        "name": "ipython",
        "version": 3
      },
      "file_extension": ".py",
      "mimetype": "text/x-python",
      "name": "python",
      "nbconvert_exporter": "python",
      "pygments_lexer": "ipython3",
      "version": "3.9.12"
    }
  },
  "nbformat": 4,
  "nbformat_minor": 0
}
